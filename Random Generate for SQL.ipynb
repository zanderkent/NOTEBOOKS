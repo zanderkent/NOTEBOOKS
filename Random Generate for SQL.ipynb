{
 "cells": [
  {
   "cell_type": "code",
   "execution_count": 184,
   "metadata": {
    "collapsed": false
   },
   "outputs": [],
   "source": [
    "from random import randint\n",
    "#I created a rando integer generator to create a N number long random integer\n",
    "def random_with_N_digits(n):\n",
    "    range_start = 10**(n-1)\n",
    "    range_end = (10**n)-1\n",
    "    return randint(range_start, range_end)"
   ]
  },
  {
   "cell_type": "code",
   "execution_count": 185,
   "metadata": {
    "collapsed": false
   },
   "outputs": [
    {
     "name": "stdout",
     "output_type": "stream",
     "text": [
      "[503322389, 594311400, 667121956, 350497877, 166160098, 268964840, 284471537, 253937820, 519669624, 335751863, 861868436, 111011495, 428634409, 918843376, 434176962, 824083734, 354478745, 700265290, 366047017, 366628277, 773215226, 218727032, 223590318, 523044570, 559838937, 307056572, 173881628, 567621632, 387058788, 962174313, 186208980, 544488255, 831616994, 618766664, 539124596, 575691375, 417856161, 411783186, 185948032, 796794491, 884193624, 366668766, 586339346, 255063077, 350076821, 492549906, 455143152, 757386655, 979929478, 849469391, 800364707, 845225947, 146230749, 629076873, 982917369, 757477842, 163521009, 555443302, 676823891, 279903467, 411845573, 900405881, 562038404, 745750087, 354327517, 440048827, 546919557, 476389272, 794414187, 571131078, 108199525, 607167536, 434703702, 463185113, 446650045, 133010901, 251704354, 422064261, 877504621, 615432664, 535379901, 381893081, 873262242, 216348497, 661110477, 590958638, 592695846, 665624066, 618822170, 860060047, 858959440, 749370675, 377015632, 304525476, 781332285, 418808232, 637092810, 637231137, 458439301, 453474412, 487338437, 593403868, 760713381, 898522530, 772698630, 548128518, 685372212, 123891949, 264425015, 179096585, 794443420, 360258436, 723928545, 896388716, 139378798, 690855451, 251605653, 957864344, 661628119, 414798974, 811877130, 593002193, 554329134, 860741289, 263197059, 875955009, 799261677, 158161148, 964996300, 144174039, 593849434, 763503292, 877704095, 155387415, 372318966, 275651333, 267446980, 737308875, 844332057, 296319554, 114493241, 399514032, 754819083, 433281912, 525965686, 515079745, 823301385, 180498990, 609135742, 886233678, 748622884, 851790940, 586761224, 213904035, 844719716, 983794986, 799653166, 242412798, 532453614, 317218190, 878735360, 791701370, 643877494, 179715832, 671712444, 306553276, 635316680, 207593272, 615103349, 749437528, 846425425, 781149435, 527683397, 745708332, 148673267, 168860957, 604130008, 648640865, 363376748, 723852674, 627680576, 793144609, 927373680, 691306647, 309293243, 327002637, 884841072, 178496388, 305953300, 928540541, 231363528, 711651274, 301851044, 235837041, 139376112, 242985375, 182646010, 478095030, 226205291, 853134913, 662204509, 828244878, 792067080, 652420591, 189235503, 442690599, 515540880, 638029301, 902076931, 203121369, 374995078, 397236030, 409386654, 636045753, 227460354, 238439274, 370107546, 668002037, 673950964, 484220181, 763715975, 299979265, 189164074, 145175019, 591195402, 155067332, 473797806, 729832872, 576801801, 837400318, 645411621, 268854003, 816563446, 166849931, 646187002, 192208405, 332266525, 467203932, 653614350, 236511159, 801258795, 969445361, 608341650, 281401526, 209902213, 659958574, 257198020, 584541313, 834306935, 306330510, 134098222, 327791485, 995269259, 376144054, 855422428, 321019469, 779300607, 407537675, 963845056, 959553678, 254472728, 113310932, 700210884, 684932503, 371918303, 478154322, 768360487, 143603526, 970185218, 337313555, 873449233, 567417207, 349191132, 478771552, 525552944, 511496019, 367237652, 642520717, 126056816, 705441294, 160083373, 449227881, 349625603, 633478802, 808306724, 802597898, 440472681, 399033391, 754231887, 246967440, 726205196, 837749274, 685547268, 394873948, 267824166, 290599930, 533621341, 344217331, 534602974, 833103319]\n"
     ]
    }
   ],
   "source": [
    "#Pandas is a python library for dealing with data\n",
    "import pandas as pd\n",
    "#Create an empty list\n",
    "data = []\n",
    "#The range function does a range of n to M, by incorperating that into a for loop I can do a\n",
    "#formula for the range that I give it.\n",
    "for n in range(0,300):\n",
    "    #Generate random number with 9 digits\n",
    "    rand = random_with_N_digits(9)\n",
    "    #add it to the list\n",
    "    data.append(rand)\n",
    "#Print the List\n",
    "print(data)"
   ]
  },
  {
   "cell_type": "code",
   "execution_count": 186,
   "metadata": {
    "collapsed": false
   },
   "outputs": [
    {
     "name": "stdout",
     "output_type": "stream",
     "text": [
      "[96, 89, 71, 49, 63, 11, 36, 41, 24, 26, 25, 36, 28, 12, 25, 12, 14, 93, 19, 68, 52, 85, 27, 56, 24, 68, 46, 20, 79, 26, 24, 40, 33, 83, 66, 71, 92, 57, 53, 20, 72, 85, 86, 13, 36, 98, 39, 14, 90, 48, 81, 19, 36, 91, 74, 79, 69, 60, 71, 45, 30, 90, 22, 47, 15, 22, 93, 14, 46, 52, 15, 21, 67, 45, 86, 99, 87, 98, 43, 15, 55, 63, 43, 37, 79, 79, 39, 79, 87, 95, 57, 77, 72, 67, 44, 15, 47, 38, 87, 69, 80, 30, 97, 48, 42, 66, 34, 88, 55, 66, 95, 69, 23, 48, 74, 69, 41, 69, 39, 64, 38, 90, 77, 65, 23, 54, 30, 36, 60, 89, 60, 63, 95, 64, 13, 79, 68, 81, 57, 59, 74, 22, 51, 32, 86, 22, 73, 98, 51, 47, 35, 12, 66, 91, 30, 48, 53, 56, 34, 47, 68, 34, 77, 70, 16, 51, 67, 72, 63, 55, 68, 65, 60, 14, 30, 69, 95, 95, 47, 69, 69, 20, 56, 12, 21, 58, 29, 10, 47, 28, 89, 22, 83, 16, 73, 88, 44, 80, 39, 28, 99, 31, 27, 37, 88, 52, 38, 79, 94, 25, 14, 48, 78, 95, 23, 51, 91, 37, 49, 19, 92, 60, 90, 31, 78, 33, 43, 51, 59, 98, 21, 45, 54, 91, 40, 87, 68, 74, 37, 15, 65, 12, 37, 24, 61, 21, 80, 41, 28, 38, 25, 26, 32, 13, 48, 17, 89, 21, 25, 96, 62, 28, 58, 79, 19, 42, 22, 86, 19, 78, 32, 15, 23, 94, 96, 98, 52, 64, 27, 83, 55, 77, 52, 52, 77, 20, 22, 67, 33, 50, 15, 43, 27, 44, 91, 54, 12, 31, 81, 60]\n"
     ]
    }
   ],
   "source": [
    "#Create an empty list and perform the same operation as above\n",
    "age = []\n",
    "for n in range(0,300):\n",
    "    rand = random_with_N_digits(2)\n",
    "    age.append(rand)\n",
    "print(age)"
   ]
  },
  {
   "cell_type": "code",
   "execution_count": 187,
   "metadata": {
    "collapsed": false
   },
   "outputs": [
    {
     "name": "stdout",
     "output_type": "stream",
     "text": [
      "[8, 5, 3, 8, 4, 2, 7, 4, 4, 2, 3, 6, 9, 5, 7, 2, 6, 3, 5, 2, 9, 2, 6, 2, 2, 9, 5, 5, 4, 8, 6, 8, 3, 9, 1, 5, 8, 7, 8, 7, 5, 4, 4, 1, 6, 5, 5, 5, 4, 6, 7, 7, 3, 7, 7, 4, 5, 9, 6, 9, 1, 1, 1, 4, 5, 7, 5, 6, 3, 5, 6, 4, 2, 7, 4, 9, 4, 9, 7, 3, 1, 7, 8, 4, 9, 1, 9, 6, 3, 9, 9, 1, 9, 1, 6, 1, 4, 9, 1, 6, 5, 6, 2, 4, 1, 7, 5, 5, 1, 9, 6, 4, 2, 6, 4, 4, 5, 5, 6, 4, 5, 3, 3, 3, 7, 1, 6, 5, 5, 8, 2, 2, 8, 5, 2, 7, 2, 4, 2, 3, 1, 4, 2, 2, 9, 4, 9, 3, 3, 1, 4, 7, 3, 6, 8, 9, 9, 1, 2, 9, 8, 3, 6, 8, 1, 8, 6, 8, 2, 1, 8, 1, 8, 4, 6, 2, 8, 6, 6, 7, 4, 1, 3, 8, 1, 2, 8, 3, 6, 8, 5, 9, 5, 8, 1, 7, 5, 7, 9, 4, 8, 5, 5, 2, 1, 9, 2, 6, 1, 7, 8, 7, 8, 1, 2, 2, 4, 9, 9, 3, 6, 4, 8, 9, 6, 1, 5, 1, 3, 2, 3, 1, 1, 2, 3, 4, 5, 8, 7, 2, 6, 9, 5, 1, 9, 8, 1, 8, 1, 7, 3, 8, 2, 9, 1, 1, 3, 8, 8, 1, 7, 6, 5, 6, 5, 5, 5, 8, 4, 1, 7, 8, 7, 4, 8, 7, 9, 8, 8, 1, 9, 3, 3, 1, 4, 1, 5, 4, 1, 5, 4, 2, 4, 4, 3, 7, 6, 1, 6, 2]\n"
     ]
    },
    {
     "data": {
      "text/plain": [
       "300"
      ]
     },
     "execution_count": 187,
     "metadata": {},
     "output_type": "execute_result"
    }
   ],
   "source": [
    "#Create an empty list and perform the same operation as above\n",
    "children = []\n",
    "for n in range(0,300):\n",
    "    rand = random_with_N_digits(1)\n",
    "    children.append(rand)\n",
    "print(children)\n",
    "len(children)"
   ]
  },
  {
   "cell_type": "code",
   "execution_count": 188,
   "metadata": {
    "collapsed": true
   },
   "outputs": [],
   "source": [
    "#Here I created a list of number starting from 1 and ending in 300\n",
    "index = list(range(1,301))"
   ]
  },
  {
   "cell_type": "code",
   "execution_count": 189,
   "metadata": {
    "collapsed": false
   },
   "outputs": [
    {
     "name": "stdout",
     "output_type": "stream",
     "text": [
      "300\n"
     ]
    },
    {
     "data": {
      "text/html": [
       "<div>\n",
       "<table border=\"1\" class=\"dataframe\">\n",
       "  <thead>\n",
       "    <tr style=\"text-align: right;\">\n",
       "      <th></th>\n",
       "      <th>Full Name</th>\n",
       "    </tr>\n",
       "  </thead>\n",
       "  <tbody>\n",
       "    <tr>\n",
       "      <th>0</th>\n",
       "      <td>Emma Abigail</td>\n",
       "    </tr>\n",
       "    <tr>\n",
       "      <th>1</th>\n",
       "      <td>Liam Abigail</td>\n",
       "    </tr>\n",
       "    <tr>\n",
       "      <th>2</th>\n",
       "      <td>Noah Abigail</td>\n",
       "    </tr>\n",
       "    <tr>\n",
       "      <th>3</th>\n",
       "      <td>Olivia Adam</td>\n",
       "    </tr>\n",
       "    <tr>\n",
       "      <th>4</th>\n",
       "      <td>Ethan Adam</td>\n",
       "    </tr>\n",
       "  </tbody>\n",
       "</table>\n",
       "</div>"
      ],
      "text/plain": [
       "      Full Name\n",
       "0  Emma Abigail\n",
       "1  Liam Abigail\n",
       "2  Noah Abigail\n",
       "3   Olivia Adam\n",
       "4    Ethan Adam"
      ]
     },
     "execution_count": 189,
     "metadata": {},
     "output_type": "execute_result"
    }
   ],
   "source": [
    "#Here I use a built in function that Pandas has to read a CSV file from my computer and stores it in a dataframe\n",
    "names = pd.read_csv(\"C:\\\\Users\\\\Zanderkent\\\\Desktop\\\\asd.csv\")\n",
    "#I am dropping two columns that I in excel to manipluate the data that I will not need\n",
    "names = names.drop('First Name',1)\n",
    "names = names.drop('Last Name', 1)\n",
    "#Print the length of the dataset\n",
    "print(len(names))\n",
    "#The .head() method prints the first 5 rows of the dataframe\n",
    "names.head()"
   ]
  },
  {
   "cell_type": "code",
   "execution_count": 190,
   "metadata": {
    "collapsed": false
   },
   "outputs": [
    {
     "data": {
      "text/html": [
       "<div>\n",
       "<table border=\"1\" class=\"dataframe\">\n",
       "  <thead>\n",
       "    <tr style=\"text-align: right;\">\n",
       "      <th></th>\n",
       "      <th>Full Name</th>\n",
       "      <th>UserName</th>\n",
       "      <th>Text</th>\n",
       "    </tr>\n",
       "  </thead>\n",
       "  <tbody>\n",
       "    <tr>\n",
       "      <th>0</th>\n",
       "      <td>Emma Abigail</td>\n",
       "      <td>User_Emma Abigail</td>\n",
       "      <td>About me Text</td>\n",
       "    </tr>\n",
       "    <tr>\n",
       "      <th>1</th>\n",
       "      <td>Liam Abigail</td>\n",
       "      <td>User_Liam Abigail</td>\n",
       "      <td>About me Text</td>\n",
       "    </tr>\n",
       "    <tr>\n",
       "      <th>2</th>\n",
       "      <td>Noah Abigail</td>\n",
       "      <td>User_Noah Abigail</td>\n",
       "      <td>About me Text</td>\n",
       "    </tr>\n",
       "    <tr>\n",
       "      <th>3</th>\n",
       "      <td>Olivia Adam</td>\n",
       "      <td>User_Olivia Adam</td>\n",
       "      <td>About me Text</td>\n",
       "    </tr>\n",
       "    <tr>\n",
       "      <th>4</th>\n",
       "      <td>Ethan Adam</td>\n",
       "      <td>User_Ethan Adam</td>\n",
       "      <td>About me Text</td>\n",
       "    </tr>\n",
       "  </tbody>\n",
       "</table>\n",
       "</div>"
      ],
      "text/plain": [
       "      Full Name           UserName           Text\n",
       "0  Emma Abigail  User_Emma Abigail  About me Text\n",
       "1  Liam Abigail  User_Liam Abigail  About me Text\n",
       "2  Noah Abigail  User_Noah Abigail  About me Text\n",
       "3   Olivia Adam   User_Olivia Adam  About me Text\n",
       "4    Ethan Adam    User_Ethan Adam  About me Text"
      ]
     },
     "execution_count": 190,
     "metadata": {},
     "output_type": "execute_result"
    }
   ],
   "source": [
    "#Assign the Username of the Names table to User_FullName\n",
    "names['UserName'] = \"User_\" + names['Full Name']\n",
    "#I was too lazy to write meaningful text in the text section so I assigned the text column to the same thing\n",
    "names['Text'] = 'About me Text'\n",
    "#Again it prints the first 5 rows, I do this to make sure the operations that I performed worked. \n",
    "names.head()"
   ]
  },
  {
   "cell_type": "code",
   "execution_count": 191,
   "metadata": {
    "collapsed": false
   },
   "outputs": [
    {
     "data": {
      "text/plain": [
       "300"
      ]
     },
     "execution_count": 191,
     "metadata": {},
     "output_type": "execute_result"
    }
   ],
   "source": [
    "#Create an empty list and perform the same operation as above, but in addition I am using the calendar library\n",
    "#to use the index that I randomly generated to the day of week with Monday=0 ad Sunday=6\n",
    "days = []\n",
    "import calendar\n",
    "for n in range(0,300):\n",
    "    day = randint(0,6)\n",
    "    days.append(calendar.day_name[day])\n",
    "len(days)"
   ]
  },
  {
   "cell_type": "code",
   "execution_count": 192,
   "metadata": {
    "collapsed": false
   },
   "outputs": [
    {
     "data": {
      "text/plain": [
       "300"
      ]
     },
     "execution_count": 192,
     "metadata": {},
     "output_type": "execute_result"
    }
   ],
   "source": [
    "#I am not even going to try to describe this one :P\n",
    "from random import randrange\n",
    "import datetime \n",
    "def random_date(start,l):\n",
    "   current = start\n",
    "   while l >= 0:\n",
    "      curr = current + datetime.timedelta(days=randrange(365))\n",
    "      yield curr\n",
    "      l-=1\n",
    "startDate = datetime.datetime(2013, 9, 20,13,00)\n",
    "times = []\n",
    "for x in random_date(startDate,299):\n",
    "  times.append(x.strftime(\"%d/%m/%y %H:%M\"))\n",
    "len(times)"
   ]
  },
  {
   "cell_type": "code",
   "execution_count": 193,
   "metadata": {
    "collapsed": false
   },
   "outputs": [],
   "source": [
    "#Assigned Time of Tweet to the random times generated by the above formula\n",
    "names['Time of Tweet'] = times\n",
    "#Assigned DOW (Day of Week) to the days list that we created above\n",
    "names['DOW'] = days"
   ]
  },
  {
   "cell_type": "code",
   "execution_count": 194,
   "metadata": {
    "collapsed": false
   },
   "outputs": [
    {
     "data": {
      "text/html": [
       "<div>\n",
       "<table border=\"1\" class=\"dataframe\">\n",
       "  <thead>\n",
       "    <tr style=\"text-align: right;\">\n",
       "      <th></th>\n",
       "      <th>Full Name</th>\n",
       "      <th>UserName</th>\n",
       "      <th>Text</th>\n",
       "      <th>Time of Tweet</th>\n",
       "      <th>DOW</th>\n",
       "    </tr>\n",
       "  </thead>\n",
       "  <tbody>\n",
       "    <tr>\n",
       "      <th>0</th>\n",
       "      <td>Emma Abigail</td>\n",
       "      <td>User_Emma Abigail</td>\n",
       "      <td>About me Text</td>\n",
       "      <td>25/02/14 13:00</td>\n",
       "      <td>Monday</td>\n",
       "    </tr>\n",
       "    <tr>\n",
       "      <th>1</th>\n",
       "      <td>Liam Abigail</td>\n",
       "      <td>User_Liam Abigail</td>\n",
       "      <td>About me Text</td>\n",
       "      <td>29/01/14 13:00</td>\n",
       "      <td>Sunday</td>\n",
       "    </tr>\n",
       "    <tr>\n",
       "      <th>2</th>\n",
       "      <td>Noah Abigail</td>\n",
       "      <td>User_Noah Abigail</td>\n",
       "      <td>About me Text</td>\n",
       "      <td>26/09/13 13:00</td>\n",
       "      <td>Tuesday</td>\n",
       "    </tr>\n",
       "    <tr>\n",
       "      <th>3</th>\n",
       "      <td>Olivia Adam</td>\n",
       "      <td>User_Olivia Adam</td>\n",
       "      <td>About me Text</td>\n",
       "      <td>13/04/14 13:00</td>\n",
       "      <td>Thursday</td>\n",
       "    </tr>\n",
       "    <tr>\n",
       "      <th>4</th>\n",
       "      <td>Ethan Adam</td>\n",
       "      <td>User_Ethan Adam</td>\n",
       "      <td>About me Text</td>\n",
       "      <td>31/12/13 13:00</td>\n",
       "      <td>Thursday</td>\n",
       "    </tr>\n",
       "  </tbody>\n",
       "</table>\n",
       "</div>"
      ],
      "text/plain": [
       "      Full Name           UserName           Text   Time of Tweet       DOW\n",
       "0  Emma Abigail  User_Emma Abigail  About me Text  25/02/14 13:00    Monday\n",
       "1  Liam Abigail  User_Liam Abigail  About me Text  29/01/14 13:00    Sunday\n",
       "2  Noah Abigail  User_Noah Abigail  About me Text  26/09/13 13:00   Tuesday\n",
       "3   Olivia Adam   User_Olivia Adam  About me Text  13/04/14 13:00  Thursday\n",
       "4    Ethan Adam    User_Ethan Adam  About me Text  31/12/13 13:00  Thursday"
      ]
     },
     "execution_count": 194,
     "metadata": {},
     "output_type": "execute_result"
    }
   ],
   "source": [
    "#Check to make sure everything worked.\n",
    "names.head()"
   ]
  },
  {
   "cell_type": "markdown",
   "metadata": {},
   "source": []
  },
  {
   "cell_type": "code",
   "execution_count": 195,
   "metadata": {
    "collapsed": false
   },
   "outputs": [],
   "source": [
    "#Save the People table to a csv\n",
    "names.to_csv('C:\\\\Users\\\\Zanderkent\\\\Desktop\\\\People.csv')"
   ]
  },
  {
   "cell_type": "code",
   "execution_count": 196,
   "metadata": {
    "collapsed": false
   },
   "outputs": [
    {
     "name": "stdout",
     "output_type": "stream",
     "text": [
      "[19, 91, 64, 61, 14, 12, 10, 17, 41, 99, 49, 51, 14, 54, 26, 73, 90, 97, 49, 14, 72, 51, 84, 71, 46, 13, 84, 77, 64, 96, 53, 71, 95, 55, 67, 15, 90, 58, 14, 24, 76, 73, 50, 71, 34, 21, 54, 99, 74, 18, 55, 31, 58, 23, 35, 23, 29, 98, 59, 70, 97, 45, 76, 13, 64, 96, 40, 57, 54, 57, 63, 95, 20, 41, 86, 19, 69, 48, 22, 39, 39, 73, 44, 94, 65, 36, 53, 19, 52, 93, 83, 98, 41, 62, 75, 36, 59, 94, 55, 32, 23, 63, 78, 69, 32, 52, 78, 70, 46, 93, 32, 61, 82, 23, 85, 36, 63, 52, 21, 80, 45, 37, 87, 77, 90, 58, 85, 81, 64, 51, 21, 92, 75, 40, 69, 86, 78, 88, 66, 22, 85, 17, 44, 51, 14, 83, 17, 57, 18, 43, 67, 64, 84, 31, 64, 15, 96, 26, 56, 65, 23, 38, 85, 11, 84, 91, 34, 82, 40, 95, 67, 23, 54, 50, 77, 73, 49, 15, 60, 80, 63, 17, 44, 29, 15, 19, 40, 40, 25, 79, 43, 46, 77, 73, 72, 21, 19, 59, 91, 93, 17, 82, 54, 18, 70, 78, 20, 61, 34, 59, 87, 97, 87, 23, 29, 12, 24, 15, 79, 68, 78, 30, 22, 19, 80, 38, 71, 82, 14, 70, 59, 73, 58, 17, 84, 90, 41, 18, 27, 53, 46, 80, 78, 60, 55, 61, 25, 59, 71, 34, 38, 78, 50, 88, 98, 67, 51, 46, 28, 83, 16, 30, 52, 97, 16, 95, 88, 23, 22, 12, 81, 44, 63, 62, 54, 71, 32, 75, 83, 40, 53, 81, 55, 17, 68, 34, 17, 93, 10, 67, 87, 15, 18, 89, 86, 25, 99, 44, 61, 27]\n"
     ]
    },
    {
     "data": {
      "text/plain": [
       "300"
      ]
     },
     "execution_count": 196,
     "metadata": {},
     "output_type": "execute_result"
    }
   ],
   "source": [
    "#Create an empty list and perform the same operation as above\n",
    "hieght = []\n",
    "for n in range(0,300):\n",
    "    rand = random_with_N_digits(2)\n",
    "    hieght.append(rand)\n",
    "print(hieght)\n",
    "len(hieght)"
   ]
  },
  {
   "cell_type": "code",
   "execution_count": 201,
   "metadata": {
    "collapsed": false
   },
   "outputs": [
    {
     "data": {
      "text/html": [
       "<div>\n",
       "<table border=\"1\" class=\"dataframe\">\n",
       "  <thead>\n",
       "    <tr style=\"text-align: right;\">\n",
       "      <th></th>\n",
       "      <th>id</th>\n",
       "      <th>text</th>\n",
       "      <th>Time stamp</th>\n",
       "      <th>UserName</th>\n",
       "      <th>DOW</th>\n",
       "    </tr>\n",
       "  </thead>\n",
       "  <tbody>\n",
       "    <tr>\n",
       "      <th>0</th>\n",
       "      <td>1</td>\n",
       "      <td>140 characters describing their feelings</td>\n",
       "      <td>25/02/14 13:00</td>\n",
       "      <td>User_Emma Abigail</td>\n",
       "      <td>Monday</td>\n",
       "    </tr>\n",
       "    <tr>\n",
       "      <th>1</th>\n",
       "      <td>2</td>\n",
       "      <td>140 characters describing their feelings</td>\n",
       "      <td>29/01/14 13:00</td>\n",
       "      <td>User_Liam Abigail</td>\n",
       "      <td>Sunday</td>\n",
       "    </tr>\n",
       "    <tr>\n",
       "      <th>2</th>\n",
       "      <td>3</td>\n",
       "      <td>140 characters describing their feelings</td>\n",
       "      <td>26/09/13 13:00</td>\n",
       "      <td>User_Noah Abigail</td>\n",
       "      <td>Tuesday</td>\n",
       "    </tr>\n",
       "    <tr>\n",
       "      <th>3</th>\n",
       "      <td>4</td>\n",
       "      <td>140 characters describing their feelings</td>\n",
       "      <td>13/04/14 13:00</td>\n",
       "      <td>User_Olivia Adam</td>\n",
       "      <td>Thursday</td>\n",
       "    </tr>\n",
       "    <tr>\n",
       "      <th>4</th>\n",
       "      <td>5</td>\n",
       "      <td>140 characters describing their feelings</td>\n",
       "      <td>31/12/13 13:00</td>\n",
       "      <td>User_Ethan Adam</td>\n",
       "      <td>Thursday</td>\n",
       "    </tr>\n",
       "  </tbody>\n",
       "</table>\n",
       "</div>"
      ],
      "text/plain": [
       "   id                                      text      Time stamp  \\\n",
       "0   1  140 characters describing their feelings  25/02/14 13:00   \n",
       "1   2  140 characters describing their feelings  29/01/14 13:00   \n",
       "2   3  140 characters describing their feelings  26/09/13 13:00   \n",
       "3   4  140 characters describing their feelings  13/04/14 13:00   \n",
       "4   5  140 characters describing their feelings  31/12/13 13:00   \n",
       "\n",
       "            UserName       DOW  \n",
       "0  User_Emma Abigail    Monday  \n",
       "1  User_Liam Abigail    Sunday  \n",
       "2  User_Noah Abigail   Tuesday  \n",
       "3   User_Olivia Adam  Thursday  \n",
       "4    User_Ethan Adam  Thursday  "
      ]
     },
     "execution_count": 201,
     "metadata": {},
     "output_type": "execute_result"
    }
   ],
   "source": [
    "#Create a empty DataFrame\n",
    "tweets = pd.DataFrame()\n",
    "#Assign the index numbers to ID\n",
    "tweets['id'] = index\n",
    "#Again I was lazy and wrote some text here\n",
    "tweets['text'] = '140 characters describing their feelings'\n",
    "##Assigned Time of Tweet to the random times generated by the above formula\n",
    "tweets['Time stamp'] = times\n",
    "#Assined user name in tweets to the same user name in names\n",
    "tweets['UserName'] = names['UserName']\n",
    "#Assigned days of week to the day list we created above\n",
    "tweets['DOW'] = days\n",
    "#Look at first 5 rows\n",
    "tweets.head()"
   ]
  },
  {
   "cell_type": "code",
   "execution_count": 198,
   "metadata": {
    "collapsed": false
   },
   "outputs": [
    {
     "data": {
      "text/html": [
       "<div>\n",
       "<table border=\"1\" class=\"dataframe\">\n",
       "  <thead>\n",
       "    <tr style=\"text-align: right;\">\n",
       "      <th></th>\n",
       "      <th>Name</th>\n",
       "      <th>Names</th>\n",
       "      <th>Followers</th>\n",
       "    </tr>\n",
       "  </thead>\n",
       "  <tbody>\n",
       "    <tr>\n",
       "      <th>0</th>\n",
       "      <td>Emma Abigail</td>\n",
       "      <td>Abigail Andrew</td>\n",
       "      <td>Liam Abigail, Abigail Andrew, Noah Abigail</td>\n",
       "    </tr>\n",
       "    <tr>\n",
       "      <th>1</th>\n",
       "      <td>Liam Abigail</td>\n",
       "      <td>Abigail Hannah</td>\n",
       "      <td>Noah Abigail, Abigail Hannah, Olivia Adam</td>\n",
       "    </tr>\n",
       "    <tr>\n",
       "      <th>2</th>\n",
       "      <td>Noah Abigail</td>\n",
       "      <td>Abigail Michael</td>\n",
       "      <td>Olivia Adam, Abigail Michael, Ethan Adam</td>\n",
       "    </tr>\n",
       "    <tr>\n",
       "      <th>3</th>\n",
       "      <td>Olivia Adam</td>\n",
       "      <td>Adam Ellie</td>\n",
       "      <td>Ethan Adam, Adam Ellie, Sophia Adam</td>\n",
       "    </tr>\n",
       "    <tr>\n",
       "      <th>4</th>\n",
       "      <td>Ethan Adam</td>\n",
       "      <td>Adam Lucy</td>\n",
       "      <td>Sophia Adam, Adam Lucy, Ava Addison</td>\n",
       "    </tr>\n",
       "  </tbody>\n",
       "</table>\n",
       "</div>"
      ],
      "text/plain": [
       "           Name            Names                                   Followers\n",
       "0  Emma Abigail   Abigail Andrew  Liam Abigail, Abigail Andrew, Noah Abigail\n",
       "1  Liam Abigail   Abigail Hannah   Noah Abigail, Abigail Hannah, Olivia Adam\n",
       "2  Noah Abigail  Abigail Michael    Olivia Adam, Abigail Michael, Ethan Adam\n",
       "3   Olivia Adam       Adam Ellie         Ethan Adam, Adam Ellie, Sophia Adam\n",
       "4    Ethan Adam        Adam Lucy         Sophia Adam, Adam Lucy, Ava Addison"
      ]
     },
     "execution_count": 198,
     "metadata": {},
     "output_type": "execute_result"
    }
   ],
   "source": [
    "#I pulled some data into excel to manipulate it and now I am reading it in.\n",
    "followers = pd.read_csv('C:\\\\Users\\\\ZanderKent\\\\Documents\\\\Followers.csv')\n",
    "followers.head()"
   ]
  },
  {
   "cell_type": "code",
   "execution_count": 199,
   "metadata": {
    "collapsed": false
   },
   "outputs": [
    {
     "data": {
      "text/html": [
       "<div>\n",
       "<table border=\"1\" class=\"dataframe\">\n",
       "  <thead>\n",
       "    <tr style=\"text-align: right;\">\n",
       "      <th></th>\n",
       "      <th>from_user</th>\n",
       "      <th>to_user</th>\n",
       "    </tr>\n",
       "  </thead>\n",
       "  <tbody>\n",
       "    <tr>\n",
       "      <th>0</th>\n",
       "      <td>User_Emma Abigail</td>\n",
       "      <td>Liam Abigail, Abigail Andrew, Noah Abigail</td>\n",
       "    </tr>\n",
       "    <tr>\n",
       "      <th>1</th>\n",
       "      <td>User_Liam Abigail</td>\n",
       "      <td>Noah Abigail, Abigail Hannah, Olivia Adam</td>\n",
       "    </tr>\n",
       "    <tr>\n",
       "      <th>2</th>\n",
       "      <td>User_Noah Abigail</td>\n",
       "      <td>Olivia Adam, Abigail Michael, Ethan Adam</td>\n",
       "    </tr>\n",
       "    <tr>\n",
       "      <th>3</th>\n",
       "      <td>User_Olivia Adam</td>\n",
       "      <td>Ethan Adam, Adam Ellie, Sophia Adam</td>\n",
       "    </tr>\n",
       "    <tr>\n",
       "      <th>4</th>\n",
       "      <td>User_Ethan Adam</td>\n",
       "      <td>Sophia Adam, Adam Lucy, Ava Addison</td>\n",
       "    </tr>\n",
       "  </tbody>\n",
       "</table>\n",
       "</div>"
      ],
      "text/plain": [
       "           from_user                                     to_user\n",
       "0  User_Emma Abigail  Liam Abigail, Abigail Andrew, Noah Abigail\n",
       "1  User_Liam Abigail   Noah Abigail, Abigail Hannah, Olivia Adam\n",
       "2  User_Noah Abigail    Olivia Adam, Abigail Michael, Ethan Adam\n",
       "3   User_Olivia Adam         Ethan Adam, Adam Ellie, Sophia Adam\n",
       "4    User_Ethan Adam         Sophia Adam, Adam Lucy, Ava Addison"
      ]
     },
     "execution_count": 199,
     "metadata": {},
     "output_type": "execute_result"
    }
   ],
   "source": [
    "#Empty DataFrame\n",
    "following = pd.DataFrame()\n",
    "#Assign the from_user to the UserName column in names\n",
    "following['from_user'] = names['UserName']\n",
    "#Assign the to_user to the followers column in follwers\n",
    "following['to_user'] = followers['Followers']\n",
    "#View data\n",
    "following.head()"
   ]
  },
  {
   "cell_type": "code",
   "execution_count": 202,
   "metadata": {
    "collapsed": false
   },
   "outputs": [],
   "source": [
    "#Import the SQLlite3 library to interface with the database\n",
    "import sqlite3\n",
    "#import the SQL engine to write to the database\n",
    "import sqlalchemy\n",
    "#Create the link bewteen python and the database\n",
    "engine = sqlalchemy.create_engine('sqlite:///C:\\\\Users\\\\Zanderkent\\\\Desktop\\\\tweets.db')\n",
    "#Send the tables we created to their respectives tables and if it already exists replace the table\n",
    "names.to_sql('People', con=engine, if_exists='replace')\n",
    "tweets.to_sql('Tweets', con=engine, if_exists='replace')\n",
    "following.to_sql('Followers', con=engine, if_exists='replace')"
   ]
  }
 ],
 "metadata": {
  "kernelspec": {
   "display_name": "Python 3",
   "language": "python",
   "name": "python3"
  },
  "language_info": {
   "codemirror_mode": {
    "name": "ipython",
    "version": 3
   },
   "file_extension": ".py",
   "mimetype": "text/x-python",
   "name": "python",
   "nbconvert_exporter": "python",
   "pygments_lexer": "ipython3",
   "version": "3.5.1"
  }
 },
 "nbformat": 4,
 "nbformat_minor": 0
}
